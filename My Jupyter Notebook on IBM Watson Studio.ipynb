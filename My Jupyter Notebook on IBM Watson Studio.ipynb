{
 "cells": [
  {
   "cell_type": "markdown",
   "metadata": {},
   "source": [
    "<center>\n",
    "    <img src=\"https://cf-courses-data.s3.us.cloud-object-storage.appdomain.cloud/IBMDeveloperSkillsNetwork-DS0105EN-SkillsNetwork/labs/Module2/images/SN_web_lightmode.png\" width=\"300\" alt=\"cognitiveclass.ai logo\"  />\n",
    "</center>\n"
   ]
  },
  {
   "cell_type": "markdown",
   "metadata": {
    "tags": []
   },
   "source": [
    "#### Add your code below following the instructions given in the course\n"
   ]
  },
  {
   "cell_type": "markdown",
   "metadata": {},
   "source": [
    "## **EXERCISE 1**"
   ]
  },
  {
   "cell_type": "markdown",
   "metadata": {},
   "source": [
    "## My Jupyter Notebook on IBM Watson Studio"
   ]
  },
  {
   "cell_type": "markdown",
   "metadata": {},
   "source": [
    "## **EXERCISE 2**"
   ]
  },
  {
   "cell_type": "markdown",
   "metadata": {},
   "source": [
    "## **MUHAMMAD AREEB KHAN**\n",
    "#### AI STUDENT"
   ]
  },
  {
   "cell_type": "markdown",
   "metadata": {},
   "source": [
    "## **EXERCISE 3**"
   ]
  },
  {
   "cell_type": "markdown",
   "metadata": {},
   "source": [
    "*I am interested in data science because it allows me to analyze and extract insights from large and complex datasets, and ultimately make data-driven decisions that can have a positive impact on various industries and domains.*\n"
   ]
  },
  {
   "cell_type": "markdown",
   "metadata": {},
   "source": [
    "### Purpose of Cell 5 Code: \n",
    "\n",
    "The code in Cell 5 is intended to sort a list of integers in ascending order using the built-in `sorted()` function in Python."
   ]
  },
  {
   "cell_type": "code",
   "execution_count": 1,
   "metadata": {},
   "outputs": [
    {
     "name": "stdout",
     "output_type": "stream",
     "text": [
      "[1, 2, 3, 5, 8]\n"
     ]
    }
   ],
   "source": [
    "my_list = [5, 3, 8, 1, 2]\n",
    "sorted_list = sorted(my_list)\n",
    "\n",
    "print(sorted_list)"
   ]
  },
  {
   "cell_type": "markdown",
   "metadata": {},
   "source": [
    "---\n",
    "\n",
    "### My favorite books\n",
    "\n",
    "1. *The Hitchhiker's Guide to the Galaxy* by Douglas Adams\n",
    "2. *To Kill a Mockingbird* by Harper Lee\n",
    "3. *The Great Gatsby* by F. Scott Fitzgerald\n",
    "\n",
    "---\n",
    "\n",
    "| Book Title | Author | Year Published |\n",
    "| ---------- | ------ | -------------- |\n",
    "| *The Hitchhiker's Guide to the Galaxy* | Douglas Adams | 1979 |\n",
    "| *To Kill a Mockingbird* | Harper Lee | 1960 |\n",
    "| *The Great Gatsby* | F. Scott Fitzgerald | 1925 |\n",
    "\n",
    "---\n",
    "\n",
    "> \"The only way to do great work is to love what you do.\" \n",
    "> \n",
    "> *- Steve Jobs*\n",
    "\n",
    "---\n",
    "\n",
    "~~I don't always test my code, but when I do, I do it in production.~~\n"
   ]
  },
  {
   "cell_type": "markdown",
   "metadata": {
    "tags": []
   },
   "source": [
    "<center>\n",
    "    \n",
    "<h1>Draw a data frame same as below usning pandas</h1>    \n",
    "<table>\n",
    "    <tr><th>ColumnA</th><th>ColumnB</th></tr>\n",
    "    <tr><td>1</td><td>10</td></tr>\n",
    "    <tr><td>2</td><td>9</td></tr>\n",
    "    <tr><td>3</td><td>7</td></tr>\n",
    "    <tr><td>4</td><td>6</td></tr>\n",
    "    <tr><td>5</td><td>5</td></tr>\n",
    "    <tr><td>6</td><td>4</td></tr>\n",
    "    <tr><td>7</td><td>3</td></tr>\n",
    "    <tr><td>8</td><td>2</td></tr>\n",
    "    <tr><td>10</td><td>1</td></tr>\n",
    "\n",
    "</table>\n",
    "</center>\n",
    "\n"
   ]
  },
  {
   "cell_type": "code",
   "execution_count": 6,
   "metadata": {},
   "outputs": [
    {
     "data": {
      "text/html": [
       "<div>\n",
       "<style scoped>\n",
       "    .dataframe tbody tr th:only-of-type {\n",
       "        vertical-align: middle;\n",
       "    }\n",
       "\n",
       "    .dataframe tbody tr th {\n",
       "        vertical-align: top;\n",
       "    }\n",
       "\n",
       "    .dataframe thead th {\n",
       "        text-align: right;\n",
       "    }\n",
       "</style>\n",
       "<table border=\"1\" class=\"dataframe\">\n",
       "  <thead>\n",
       "    <tr style=\"text-align: right;\">\n",
       "      <th></th>\n",
       "      <th>ColumnA</th>\n",
       "    </tr>\n",
       "  </thead>\n",
       "  <tbody>\n",
       "    <tr>\n",
       "      <th>0</th>\n",
       "      <td>10</td>\n",
       "    </tr>\n",
       "    <tr>\n",
       "      <th>1</th>\n",
       "      <td>9</td>\n",
       "    </tr>\n",
       "    <tr>\n",
       "      <th>2</th>\n",
       "      <td>8</td>\n",
       "    </tr>\n",
       "    <tr>\n",
       "      <th>3</th>\n",
       "      <td>7</td>\n",
       "    </tr>\n",
       "    <tr>\n",
       "      <th>4</th>\n",
       "      <td>6</td>\n",
       "    </tr>\n",
       "    <tr>\n",
       "      <th>5</th>\n",
       "      <td>5</td>\n",
       "    </tr>\n",
       "    <tr>\n",
       "      <th>6</th>\n",
       "      <td>4</td>\n",
       "    </tr>\n",
       "    <tr>\n",
       "      <th>7</th>\n",
       "      <td>3</td>\n",
       "    </tr>\n",
       "    <tr>\n",
       "      <th>8</th>\n",
       "      <td>2</td>\n",
       "    </tr>\n",
       "    <tr>\n",
       "      <th>9</th>\n",
       "      <td>1</td>\n",
       "    </tr>\n",
       "  </tbody>\n",
       "</table>\n",
       "</div>"
      ],
      "text/plain": [
       "   ColumnA\n",
       "0       10\n",
       "1        9\n",
       "2        8\n",
       "3        7\n",
       "4        6\n",
       "5        5\n",
       "6        4\n",
       "7        3\n",
       "8        2\n",
       "9        1"
      ]
     },
     "execution_count": 6,
     "metadata": {},
     "output_type": "execute_result"
    }
   ],
   "source": [
    "import pandas as pd\n",
    "data = {'ColumnA': [1,2,3,4,5,6,7,8,9,10],\n",
    "       'ColumnA': [10,9,8,7,6,5,4,3,2,1]}\n",
    "\n",
    "df = pd.DataFrame(data)\n",
    "df"
   ]
  },
  {
   "cell_type": "markdown",
   "metadata": {},
   "source": [
    "## **EXERCISE 4**\n",
    "## Data Science Languages\n",
    "### 1.Python\n",
    "### 2.R\n",
    "### 3.SQL\n",
    "### 4.Julia\n",
    "### 5.Matlab\n",
    "*Python and R are two of the most commonly used programming languages for data science, with Python being particularly popular for its versatility and ease of use. SQL is also important for managing large datasets and extracting data from databases, while Julia and Matlab are used more for numerical computing and scientific computing*"
   ]
  },
  {
   "cell_type": "markdown",
   "metadata": {},
   "source": [
    "**EXERCISE 5**\n",
    "## Data Science Libraries\n",
    "\n",
    "### 1. NumPy\n",
    "### 2. Pandas\n",
    "### 3. Matplotlib\n",
    "### 4. Scikit-learn\n",
    "### 5. TensorFlow\n"
   ]
  },
  {
   "cell_type": "markdown",
   "metadata": {},
   "source": [
    "## **EXERCISE 6**\n",
    "\n",
    "| Tool             | Purpose                              | Language  |\n",
    "|------------------|--------------------------------------|-----------|\n",
    "| Jupyter Notebook | Data Exploration and Analysis        | Python    |\n",
    "| RStudio          | Statistical Computing and Graphics   | R         |\n",
    "| Tableau          | Data Visualization                   | JavaScript|\n",
    "| Apache Hadoop    | Distributed Processing of Large Data | Java      |\n",
    "| Apache Spark     | Big Data Processing                  | Scala     |"
   ]
  },
  {
   "cell_type": "markdown",
   "metadata": {},
   "source": [
    "## **EXERCISE 7**"
   ]
  },
  {
   "cell_type": "code",
   "execution_count": null,
   "metadata": {},
   "outputs": [],
   "source": []
  },
  {
   "cell_type": "markdown",
   "metadata": {},
   "source": []
  },
  {
   "cell_type": "markdown",
   "metadata": {},
   "source": [
    "## **EXERCISE 9**"
   ]
  },
  {
   "cell_type": "code",
   "execution_count": 8,
   "metadata": {},
   "outputs": [
    {
     "name": "stdout",
     "output_type": "stream",
     "text": [
      "120 minutes is equal to 2.0 hours.\n"
     ]
    }
   ],
   "source": [
    "minutes = 120\n",
    "hours = minutes / 60\n",
    "print(\"120 minutes is equal to\", hours, \"hours.\")"
   ]
  },
  {
   "cell_type": "markdown",
   "metadata": {},
   "source": [
    "## **EXERCISE 8**"
   ]
  },
  {
   "cell_type": "code",
   "execution_count": 7,
   "metadata": {},
   "outputs": [
    {
     "name": "stdout",
     "output_type": "stream",
     "text": [
      "53\n"
     ]
    }
   ],
   "source": [
    "# Multiply and Add Numbers\n",
    "x = 5\n",
    "y = 10\n",
    "print(x * y + 3)"
   ]
  },
  {
   "cell_type": "markdown",
   "metadata": {},
   "source": [
    "## **EXERCISE 10**\n",
    "## Objectives\n",
    "\n",
    "- Learn basic syntax and structure of Python\n",
    "- Understand fundamental data structures such as lists, tuples, and dictionaries\n",
    "- Explore various data manipulation techniques with Pandas library\n",
    "- Build machine learning models with Scikit-learn library\n",
    "- Visualize data with Matplotlib and Seaborn libraries\n",
    "- Gain hands-on experience through practical coding exercises and projects"
   ]
  },
  {
   "cell_type": "code",
   "execution_count": null,
   "metadata": {},
   "outputs": [],
   "source": []
  }
 ],
 "metadata": {
  "kernelspec": {
   "display_name": "Python",
   "language": "python",
   "name": "conda-env-python-py"
  },
  "language_info": {
   "codemirror_mode": {
    "name": "ipython",
    "version": 3
   },
   "file_extension": ".py",
   "mimetype": "text/x-python",
   "name": "python",
   "nbconvert_exporter": "python",
   "pygments_lexer": "ipython3",
   "version": "3.7.12"
  }
 },
 "nbformat": 4,
 "nbformat_minor": 4
}
